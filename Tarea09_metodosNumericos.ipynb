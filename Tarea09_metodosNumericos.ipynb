{
  "cells": [
    {
      "cell_type": "code",
      "execution_count": 5,
      "id": "5c949e5a-1b07-4504-883e-98b03f9d531e",
      "metadata": {
        "tags": [],
        "colab": {
          "base_uri": "https://localhost:8080/"
        },
        "id": "5c949e5a-1b07-4504-883e-98b03f9d531e",
        "outputId": "f759bd03-52a1-42c3-91ce-9a2e14f1df82"
      },
      "outputs": [
        {
          "output_type": "stream",
          "name": "stdout",
          "text": [
            "The autoreload extension is already loaded. To reload it, use:\n",
            "  %reload_ext autoreload\n"
          ]
        }
      ],
      "source": [
        "%load_ext autoreload\n",
        "import numpy as np\n",
        "from src import eliminacion_gaussiana_redondeo,eliminacion_gaussiana, multiplicar_matriz_vector\n",
        "from src import gauss_jordan"
      ]
    },
    {
      "cell_type": "markdown",
      "id": "482d9a7f-d57c-4862-8942-7d7963adb4e0",
      "metadata": {
        "id": "482d9a7f-d57c-4862-8942-7d7963adb4e0"
      },
      "source": [
        "### Conjunto de Ejercicios"
      ]
    },
    {
      "cell_type": "markdown",
      "source": [
        "2)"
      ],
      "metadata": {
        "id": "oW8zQXl65kV-"
      },
      "id": "oW8zQXl65kV-"
    },
    {
      "cell_type": "code",
      "execution_count": 9,
      "id": "7e6602e6-4e86-40fa-a093-1a040b5d11e2",
      "metadata": {
        "tags": [],
        "colab": {
          "base_uri": "https://localhost:8080/"
        },
        "id": "7e6602e6-4e86-40fa-a093-1a040b5d11e2",
        "outputId": "c31c70e9-f976-4567-a2bb-3836e665bcbb"
      },
      "outputs": [
        {
          "output_type": "stream",
          "name": "stdout",
          "text": [
            "a:\n",
            "La solución es: [-1.  1.  3.]\n",
            "b:\n",
            "La solución es: [-1.02     1.02     2.96875]\n"
          ]
        }
      ],
      "source": [
        "print(\"a:\")\n",
        "%autoreload 2\n",
        "A = [[-1,4,1,8],[5/3,2/3,2/3,1],[2,1,4,11]]\n",
        "sol_a = eliminacion_gaussiana_redondeo(A)\n",
        "print(\"La solución es:\",sol_a)\n",
        "\n",
        "print(\"b:\")\n",
        "B = [[4,2,-1,-5],[1/9,1/9,-1/3,-1],[1,4,2,9]]\n",
        "sol_b = eliminacion_gaussiana_redondeo(B)\n",
        "print(\"La solución es:\",sol_b)"
      ]
    },
    {
      "cell_type": "markdown",
      "id": "a2939b62-07b0-4b97-b2d8-71594b550b8c",
      "metadata": {
        "id": "a2939b62-07b0-4b97-b2d8-71594b550b8c"
      },
      "source": [
        "3)\n"
      ]
    },
    {
      "cell_type": "code",
      "execution_count": 13,
      "id": "977e2b66-a040-4778-b28a-38b30f38230d",
      "metadata": {
        "tags": [],
        "colab": {
          "base_uri": "https://localhost:8080/"
        },
        "id": "977e2b66-a040-4778-b28a-38b30f38230d",
        "outputId": "5ede6b4d-9f7b-4227-db65-3f8f6c624c11"
      },
      "outputs": [
        {
          "output_type": "stream",
          "name": "stdout",
          "text": [
            "a:\n",
            "La solución es: [1.1875     1.8125     0.87499994]\n",
            "b:\n",
            "La solución es: [-1. -0.  1.]\n",
            "c:\n",
            "La solución es: [ 1.5        2.        -1.1999997  2.9999998]\n",
            "d:\n",
            "\n",
            "No existe solución.\n"
          ]
        }
      ],
      "source": [
        "%autoreload 2\n",
        "print(\"a:\")\n",
        "A = [[1,-1,3,2],[3,-3,1,-1],[1,1,0,3]]\n",
        "sol_a = eliminacion_gaussiana(A)\n",
        "print(\"La solución es:\",sol_a)\n",
        "\n",
        "print(\"b:\")\n",
        "B = [[2,-1.5,3,1],[-1,0,2,3],[4,-4.5,5,1]]\n",
        "sol_b = eliminacion_gaussiana(B)\n",
        "print(\"La solución es:\",sol_b)\n",
        "\n",
        "print(\"c:\")\n",
        "C = [[2,0,0,0,3],[1,1.5,0,0,4.5],[0,-3,0.5,0,-6.6],[2,-2,1,1,0.8]]\n",
        "sol_c = eliminacion_gaussiana(C)\n",
        "print(\"La solución es:\",sol_c)\n",
        "\n",
        "print(\"d:\")\n",
        "D = [[1,1,0,1,2],[2,1,-1,1,1],[4,-1,-2,2,0],[3,-1,-1,2,-3]]\n",
        "sol_d = eliminacion_gaussiana(D)"
      ]
    },
    {
      "cell_type": "markdown",
      "id": "6e9179a6-02c8-49c0-be89-982938ccfd12",
      "metadata": {
        "id": "6e9179a6-02c8-49c0-be89-982938ccfd12"
      },
      "source": [
        "4)"
      ]
    },
    {
      "cell_type": "code",
      "execution_count": 14,
      "id": "06ce4b67-ce3e-4c01-9b26-99b4e698e91a",
      "metadata": {
        "tags": [],
        "colab": {
          "base_uri": "https://localhost:8080/"
        },
        "id": "06ce4b67-ce3e-4c01-9b26-99b4e698e91a",
        "outputId": "f5d1d393-233e-4784-9087-27a562585d00"
      },
      "outputs": [
        {
          "output_type": "stream",
          "name": "stdout",
          "text": [
            "a:\n",
            "La solución es: [-227.07697  476.92322 -177.69237]\n",
            "b:\n",
            "La solución es: [0.9997431 1.0000001 1.0001061]\n",
            "c:\n",
            "La solución es: [-0.03174745  0.59525675 -2.3809996   2.7778091 ]\n",
            "d:\n",
            "La solución es: [1.8830409  2.8070176  0.730994   1.4385961  0.09356716]\n"
          ]
        }
      ],
      "source": [
        "%autoreload 2\n",
        "print(\"a:\")\n",
        "A = [[1/4,1/5,1/6,9],[1/3,1/4,1/5,8],[1/2,1,2,8]]\n",
        "sol_a = eliminacion_gaussiana(A)\n",
        "print(\"La solución es:\",sol_a)\n",
        "\n",
        "print(\"b:\")\n",
        "B = [[3.333,15920,-10.333,15913],[2.222,16.71,9.612,28.544],[1.5611,5.1791,1.6852,8.4254]]\n",
        "sol_b = eliminacion_gaussiana(B)\n",
        "print(\"La solución es:\",sol_b)\n",
        "\n",
        "print(\"c:\")\n",
        "C = [[1,1/2,1/3,1/4,1/6],[1/2,1/3,1/4,1/5,1/7],[1/3,1/4,1/5,1/6,1/8],[1/4,1/5,1/6,1/7,1/9]]\n",
        "sol_c = eliminacion_gaussiana(C)\n",
        "print(\"La solución es:\",sol_c)\n",
        "\n",
        "print(\"d:\")\n",
        "D = [[2,1,-1,1,-3,7],[1,0,2,-1,1,2],[0,-2,-1,1,-1,-5],[3,1,-4,0,5,6],[1,-1,-1,-1,1,-3]]\n",
        "sol_d = eliminacion_gaussiana(D)\n",
        "print(\"La solución es:\",sol_d)"
      ]
    },
    {
      "cell_type": "markdown",
      "id": "11817cd0-ad8a-46df-ac77-4e033f70b1c7",
      "metadata": {
        "id": "11817cd0-ad8a-46df-ac77-4e033f70b1c7"
      },
      "source": [
        "5)"
      ]
    },
    {
      "cell_type": "markdown",
      "id": "1c8a8c06-dc2a-4066-89af-ea28cfa7d7e1",
      "metadata": {
        "id": "1c8a8c06-dc2a-4066-89af-ea28cfa7d7e1"
      },
      "source": [
        "### Ejercicios Aplicados"
      ]
    },
    {
      "cell_type": "markdown",
      "id": "8c73ca8f-778b-4e95-a511-31456e1e48ca",
      "metadata": {
        "id": "8c73ca8f-778b-4e95-a511-31456e1e48ca"
      },
      "source": [
        "a)"
      ]
    },
    {
      "cell_type": "code",
      "execution_count": 17,
      "id": "47425fe9-9d88-44a9-b7cb-28ea50d8a86c",
      "metadata": {
        "tags": [],
        "colab": {
          "base_uri": "https://localhost:8080/"
        },
        "id": "47425fe9-9d88-44a9-b7cb-28ea50d8a86c",
        "outputId": "4755fcc3-5ca6-44a9-be0f-f88f5b89a8ca"
      },
      "outputs": [
        {
          "output_type": "stream",
          "name": "stdout",
          "text": [
            "Consumo diario promedio: [3200. 2500.  750.]\n"
          ]
        }
      ],
      "source": [
        "%autoreload 2\n",
        "A = np.array([[1,2,0,3],[1,0,2,2],[0,0,1,1]])\n",
        "x = np.array([1000,500,350,400])\n",
        "\n",
        "b_obtenido =  multiplicar_matriz_vector(A,x)\n",
        "print(\"Consumo diario promedio:\",b_obtenido)"
      ]
    },
    {
      "cell_type": "markdown",
      "id": "3844ab0c-0b7a-4432-895f-fba182d0edbd",
      "metadata": {
        "id": "3844ab0c-0b7a-4432-895f-fba182d0edbd"
      },
      "source": [
        "b)"
      ]
    },
    {
      "cell_type": "code",
      "execution_count": 20,
      "id": "99bb55cb-f35c-4e56-b9f6-f8f67a18222b",
      "metadata": {
        "tags": [],
        "colab": {
          "base_uri": "https://localhost:8080/"
        },
        "id": "99bb55cb-f35c-4e56-b9f6-f8f67a18222b",
        "outputId": "553cbf8e-994b-4c46-b8e5-f47bc8bb3bc7"
      },
      "outputs": [
        {
          "output_type": "stream",
          "name": "stdout",
          "text": [
            "Consumo diario promedio: [3500. 2697.  846.]\n"
          ]
        }
      ],
      "source": [
        "%autoreload 2\n",
        "A = np.array([[1,2,0,3],[1,0,2,2],[0,0,1,1]])\n",
        "x = np.array([1005,511,355,491])\n",
        "\n",
        "b_obtenido =  multiplicar_matriz_vector(A,x)\n",
        "print(\"Consumo diario promedio:\",b_obtenido)"
      ]
    },
    {
      "cell_type": "markdown",
      "id": "2aa0c03e-d29d-491a-acf2-763d87eb7ca8",
      "metadata": {
        "id": "2aa0c03e-d29d-491a-acf2-763d87eb7ca8"
      },
      "source": [
        "c)"
      ]
    },
    {
      "cell_type": "code",
      "execution_count": 21,
      "id": "317848a9-c916-4704-8cbd-18aca636d960",
      "metadata": {
        "tags": [],
        "colab": {
          "base_uri": "https://localhost:8080/"
        },
        "id": "317848a9-c916-4704-8cbd-18aca636d960",
        "outputId": "beec57e1-a3e3-4e8f-a25b-405d8edd8266"
      },
      "outputs": [
        {
          "output_type": "stream",
          "name": "stdout",
          "text": [
            "Consumo diario promedio: [3500. 1800.  900.]\n"
          ]
        }
      ],
      "source": [
        "%autoreload 2\n",
        "A = np.array([[1,2,0,3],[1,0,2,2],[0,0,1,1]])\n",
        "x = np.array([0,1000,400,500])\n",
        "\n",
        "b_obtenido =  multiplicar_matriz_vector(A,x)\n",
        "print(\"Consumo diario promedio:\",b_obtenido)"
      ]
    },
    {
      "cell_type": "markdown",
      "id": "2ff99835-ef0e-4652-9e6c-2446fe21d301",
      "metadata": {
        "id": "2ff99835-ef0e-4652-9e6c-2446fe21d301"
      },
      "source": [
        "d)"
      ]
    },
    {
      "cell_type": "code",
      "execution_count": 22,
      "id": "e6b3693b-4766-4d54-a8bf-07319984eb97",
      "metadata": {
        "tags": [],
        "colab": {
          "base_uri": "https://localhost:8080/"
        },
        "id": "e6b3693b-4766-4d54-a8bf-07319984eb97",
        "outputId": "3f287a37-4803-4217-fe8c-17f09d9c2c4b"
      },
      "outputs": [
        {
          "output_type": "stream",
          "name": "stdout",
          "text": [
            "Consumo diario promedio: [2370. 2700.  810.]\n"
          ]
        }
      ],
      "source": [
        "%autoreload 2\n",
        "A = np.array([[1,2,0,3],[1,0,2,2],[0,0,1,1]])\n",
        "x = np.array([1080,0,380,430])\n",
        "\n",
        "b_obtenido =  multiplicar_matriz_vector(A,x)\n",
        "print(\"Consumo diario promedio:\",b_obtenido)"
      ]
    },
    {
      "cell_type": "markdown",
      "id": "d9b6ced6-10d0-4a08-979b-2224f2d516f3",
      "metadata": {
        "id": "d9b6ced6-10d0-4a08-979b-2224f2d516f3"
      },
      "source": [
        "### Ejercicios Teóricos"
      ]
    },
    {
      "cell_type": "markdown",
      "id": "83898e43-bdae-475a-b6a7-32825f095562",
      "metadata": {
        "id": "83898e43-bdae-475a-b6a7-32825f095562"
      },
      "source": [
        "7)"
      ]
    },
    {
      "cell_type": "code",
      "execution_count": 24,
      "id": "30ee32e6-2121-4780-a87c-277f05316295",
      "metadata": {
        "colab": {
          "base_uri": "https://localhost:8080/"
        },
        "id": "30ee32e6-2121-4780-a87c-277f05316295",
        "outputId": "ef6510e9-86b9-4b0a-8779-5ce6d5129caa"
      },
      "outputs": [
        {
          "output_type": "stream",
          "name": "stdout",
          "text": [
            "a:\n",
            "La solución es: [-227.07668  476.9226  -177.69215]\n",
            "b:\n",
            "La solución es: [0.9999999  0.99999994 1.0000001 ]\n",
            "c:\n",
            "La solución es: [-0.03174219  0.5951971  -2.3808553   2.7777152 ]\n",
            "d:\n",
            "La solución es: [1.8830409  2.8070173  0.73099416 1.4385965  0.09356725]\n"
          ]
        }
      ],
      "source": [
        "%autoreload 2\n",
        "print(\"a:\")\n",
        "A = [[1/4,1/5,1/6,9],[1/3,1/4,1/5,8],[1/2,1,2,8]]\n",
        "sol_a = gauss_jordan(A)\n",
        "print(\"La solución es:\",sol_a)\n",
        "\n",
        "print(\"b:\")\n",
        "B = [[3.333,15920,-10.333,15913],[2.222,16.71,9.612,28.544],[1.5611,5.1791,1.6852,8.4254]]\n",
        "sol_b = gauss_jordan(B)\n",
        "print(\"La solución es:\",sol_b)\n",
        "\n",
        "print(\"c:\")\n",
        "C = [[1,1/2,1/3,1/4,1/6],[1/2,1/3,1/4,1/5,1/7],[1/3,1/4,1/5,1/6,1/8],[1/4,1/5,1/6,1/7,1/9]]\n",
        "sol_c = gauss_jordan(C)\n",
        "print(\"La solución es:\",sol_c)\n",
        "\n",
        "print(\"d:\")\n",
        "D = [[2,1,-1,1,-3,7],[1,0,2,-1,1,2],[0,-2,-1,1,-1,-5],[3,1,-4,0,5,6],[1,-1,-1,-1,1,-3]]\n",
        "sol_d = gauss_jordan(D)\n",
        "print(\"La solución es:\",sol_d)"
      ]
    }
  ],
  "metadata": {
    "kernelspec": {
      "display_name": "Python 3 (ipykernel)",
      "language": "python",
      "name": "python3"
    },
    "language_info": {
      "codemirror_mode": {
        "name": "ipython",
        "version": 3
      },
      "file_extension": ".py",
      "mimetype": "text/x-python",
      "name": "python",
      "nbconvert_exporter": "python",
      "pygments_lexer": "ipython3",
      "version": "3.11.7"
    },
    "colab": {
      "provenance": []
    }
  },
  "nbformat": 4,
  "nbformat_minor": 5
}